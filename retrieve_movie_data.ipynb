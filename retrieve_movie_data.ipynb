{
 "cells": [
  {
   "cell_type": "markdown",
   "metadata": {},
   "source": [
    "### Import Required Libraries and Set Up Environment Variables"
   ]
  },
  {
   "cell_type": "code",
   "execution_count": null,
   "metadata": {},
   "outputs": [],
   "source": [
    "# Dependencies\n",
    "import requests\n",
    "import time\n",
    "from dotenv import load_dotenv\n",
    "import os\n",
    "import pandas as pd\n",
    "import json"
   ]
  },
  {
   "cell_type": "code",
   "execution_count": null,
   "metadata": {},
   "outputs": [],
   "source": [
    "# Set environment variables from the .env in the local environment\n",
    "load_dotenv()\n",
    "\n",
    "nyt_api_key = os.getenv(\"NYT_API_KEY\")\n",
    "tmdb_api_key = os.getenv(\"TMDB_API_KEY\")"
   ]
  },
  {
   "cell_type": "markdown",
   "metadata": {},
   "source": [
    "### Access the New York Times API"
   ]
  },
  {
   "cell_type": "code",
   "execution_count": null,
   "metadata": {},
   "outputs": [],
   "source": [
    "# Set the base URL\n",
    "base_url = \"https://api.nytimes.com/svc/search/v2/articlesearch.json?\"\n",
    "\n",
    "# Filter for movie reviews with \"love\" in the headline\n",
    "# section_name should be \"Movies\"\n",
    "# type_of_material should be \"Review\"\n",
    "filter_query = 'section_name:\"Movies\" AND type_of_material:\"Review\" AND headline:\"love\"'\n",
    "# Use a sort filter, sort by newest\n",
    "sort = \"newest\"\n",
    "\n",
    "# Select the following fields to return:\n",
    "# headline, web_url, snippet, source, keywords, pub_date, byline, word_count\n",
    "field_list = \"headline,web_url,snippet,source,keywords,pub_date,byline,word_count\"\n",
    "# Search for reviews published between a begin and end date\n",
    "begin_date = \"20130101\"\n",
    "end_date = \"20230531\"\n",
    "# Build URL\n",
    "query_url = f\"{base_url}api-key={nyt_api_key}&fq={filter_query}&begin_date={begin_date}&end_date={end_date}&sort={sort}&fl={field_list}\""
   ]
  },
  {
   "cell_type": "code",
   "execution_count": null,
   "metadata": {},
   "outputs": [],
   "source": [
    "# Create an empty list to store the reviews\n",
    "reviews_list = []\n",
    "\n",
    "# loop through pages 0-19\n",
    "for page in range(20):\n",
    "    # create query with a page number\n",
    "    # API results show 10 articles at a time\n",
    "    url = f\"{query_url}&page={page}\"\n",
    "\n",
    "    # Make a \"GET\" request and retrieve the JSON\n",
    "    reviews = requests.get(url).json()\n",
    "\n",
    "    # Add a twelve second interval between queries to stay within API query limits\n",
    "    time.sleep(12)\n",
    "\n",
    "    # Try and save the reviews to the reviews_list\n",
    "    try:\n",
    "        # loop through the reviews[\"response\"][\"docs\"] and append each review to the list\n",
    "        for review in reviews[\"response\"][\"docs\"]:\n",
    "            reviews_list.append(review)\n",
    "        # Print the page that was just retrieved\n",
    "        print(f\"Checked page number {page}.\")\n",
    "    except:\n",
    "        # Print the page number that had no results then break from the loop\n",
    "        print(f\"No reviews retrieved for page number {page}.\")\n",
    "        break"
   ]
  },
  {
   "cell_type": "code",
   "execution_count": null,
   "metadata": {},
   "outputs": [],
   "source": [
    "#Confirming 200 reviews were retrieved\n",
    "print(len(reviews_list))\n",
    "\n",
    "# Preview the first 5 results in JSON format\n",
    "first_five = reviews_list[:5]\n",
    "# Use json.dumps with argument indent=4 to format data\n",
    "json_data = json.dumps(first_five, indent=4)\n",
    "print(json_data)"
   ]
  },
  {
   "cell_type": "code",
   "execution_count": null,
   "metadata": {},
   "outputs": [],
   "source": [
    "# Convert reviews_list to a Pandas DataFrame using json_normalize()\n",
    "reviews_df = pd.json_normalize(reviews_list)\n",
    "# Preview the first few rows of the DataFrame\n",
    "reviews_df.head() "
   ]
  },
  {
   "cell_type": "code",
   "execution_count": null,
   "metadata": {},
   "outputs": [],
   "source": [
    "# Extract the title from the \"headline.main\" column and\n",
    "# save it to a new column \"title\"\n",
    "# Title is between unicode characters \\u2018 and \\u2019.\n",
    "# End string should include \" Review\" to avoid cutting title early\n",
    "reviews_df[\"title\"] = reviews_df[\"headline.main\"].apply(\n",
    "    lambda st: st[st.find(\"\\u2018\") + 1 : st.find(\"\\u2019 Review\")]\n",
    ")\n",
    "print(reviews_df[\"title\"])"
   ]
  },
  {
   "cell_type": "code",
   "execution_count": null,
   "metadata": {},
   "outputs": [],
   "source": [
    "# Extract 'name' and 'value' from items in \"keywords\" column\n",
    "def extract_keywords(keyword_list):\n",
    "    extracted_keywords = \"\"\n",
    "    for item in keyword_list:\n",
    "        # Extract 'name' and 'value'\n",
    "        keywords = f\"{item['name']}: {item['value']};\"\n",
    "        # Append the keyword item to the extracted_keywords list\n",
    "        extracted_keywords += keywords\n",
    "    return extracted_keywords"
   ]
  },
  {
   "cell_type": "code",
   "execution_count": null,
   "metadata": {},
   "outputs": [],
   "source": [
    "# Fix the \"keywords\" column by converting cells from a list to a string\n",
    "reviews_df[\"keywords\"] = reviews_df[\"keywords\"].apply(extract_keywords)\n",
    "reviews_df.head()"
   ]
  },
  {
   "cell_type": "code",
   "execution_count": null,
   "metadata": {
    "scrolled": true
   },
   "outputs": [],
   "source": [
    "# Create a list from the \"title\" column using to_list()\n",
    "# These titles will be used in the query for The Movie Database in part 2\n",
    "titles_list = reviews_df[\"title\"].to_list()"
   ]
  },
  {
   "cell_type": "markdown",
   "metadata": {},
   "source": [
    "### Access The Movie Database API"
   ]
  },
  {
   "cell_type": "code",
   "execution_count": null,
   "metadata": {},
   "outputs": [],
   "source": [
    "# Prepare The Movie Database query\n",
    "url = \"https://api.themoviedb.org/3/search/movie?query=\"\n",
    "tmdb_key_string = \"&api_key=\" + tmdb_api_key"
   ]
  },
  {
   "cell_type": "code",
   "execution_count": null,
   "metadata": {},
   "outputs": [],
   "source": [
    "# Create an empty list to store the results\n",
    "tmdb_movies_list = []   \n",
    "\n",
    "# Create a request counter to sleep the requests after a multiple\n",
    "# of 50 requests\n",
    "request_counter = 1\n",
    "\n",
    "# Loop through the titles\n",
    "for title in titles_list:\n",
    "    # Check if we need to sleep before making a request\n",
    "    if request_counter % 50 == 0:\n",
    "        # Sleep for a random time between 1 and 5 seconds\n",
    "        time.sleep(1)\n",
    "        print(\"Sleeping for one second\")\n",
    "\n",
    "    # Add 1 to the request counter\n",
    "    request_counter += 1    \n",
    "\n",
    "    # Perform a \"GET\" request for The Movie Database\n",
    "    tmdb_response = requests.get(url + title + tmdb_key_string) .json()\n",
    "\n",
    "    # Include a try clause to search for the full movie details.\n",
    "    # Use the except clause to print out a statement if a movie\n",
    "    # is not found.\n",
    "    try:\n",
    "        # Get movie id\n",
    "        movie_id = tmdb_response[\"results\"][0][\"id\"]\n",
    "\n",
    "        # Make a request for a the full movie details\n",
    "        movie_details_url = f\"https://api.themoviedb.org/3/movie/{movie_id}?api_key={tmdb_api_key}\"\n",
    "\n",
    "        # Execute \"GET\" request with url\n",
    "        tmdb_response_details = requests.get(movie_details_url).json()\n",
    "\n",
    "        # Extract the genre names into a list\n",
    "        genres = [tmdb_response_details['genres'][i]['name'] for i in range(len(tmdb_response_details['genres']))]\n",
    "\n",
    "        # Extract the spoken_languages' English name into a list\n",
    "        spoken_languages = [tmdb_response_details['spoken_languages'][i]['english_name'] for i in range(len(tmdb_response_details['spoken_languages']))]\n",
    "\n",
    "        # Extract the production_countries' name into a list\n",
    "        production_countries = [tmdb_response_details['production_countries'][i]['name'] for i in range(len(tmdb_response_details['production_countries']))]\n",
    "\n",
    "        # Add the relevant data to a dictionary and\n",
    "        # append it to the tmdb_movies_list list\n",
    "        dict_movie_details = {'title': title,\n",
    "                              'original_title': tmdb_response_details['original_title'],\n",
    "                              'budget': tmdb_response_details['budget'],\n",
    "                              'original_language': tmdb_response_details['original_language'],\n",
    "                              'homepage': tmdb_response_details['homepage'],\n",
    "                              'overview': tmdb_response_details['overview'],\n",
    "                              'popularity': tmdb_response_details['popularity'],\n",
    "                              'runtime': tmdb_response_details['runtime'],\n",
    "                              'revenue': tmdb_response_details['revenue'],\n",
    "                              'release_date': tmdb_response_details['release_date'],\n",
    "                              'vote_average': tmdb_response_details['vote_average'],\n",
    "                              'vote_count': tmdb_response_details['vote_count'],\n",
    "                              'genres': genres,\n",
    "                              'spoken_languages': spoken_languages,\n",
    "                              'production_countries': production_countries}\n",
    "        tmdb_movies_list.append(dict_movie_details)\n",
    "\n",
    "        # Print out the title that was found\n",
    "        print(f'Title found: \"{title}\".')\n",
    "    except Exception as e: \n",
    "        print(f\"Not found: {title}, error: {e}\") "
   ]
  },
  {
   "cell_type": "code",
   "execution_count": null,
   "metadata": {},
   "outputs": [],
   "source": [
    "# Preview the first 5 results in JSON format\n",
    "# Use json.dumps with argument indent=4 to format data\n",
    "print(json.dumps(tmdb_movies_list[:5], indent=4))"
   ]
  },
  {
   "cell_type": "code",
   "execution_count": null,
   "metadata": {},
   "outputs": [],
   "source": [
    "# Convert the results to a DataFrame\n",
    "tmdb_movies_df = pd.DataFrame(tmdb_movies_list)\n",
    "tmdb_movies_df.head(10)"
   ]
  },
  {
   "cell_type": "markdown",
   "metadata": {},
   "source": [
    "### Merge and Clean the Data for Export"
   ]
  },
  {
   "cell_type": "code",
   "execution_count": null,
   "metadata": {
    "scrolled": true
   },
   "outputs": [],
   "source": [
    "# Merge the New York Times reviews and TMDB DataFrames on title\n",
    "merged_df = pd.merge(tmdb_movies_df, reviews_df, on=\"title\")\n",
    "display(merged_df.head(10))"
   ]
  },
  {
   "cell_type": "code",
   "execution_count": null,
   "metadata": {},
   "outputs": [],
   "source": [
    "# Remove list brackets and quotation marks on the columns containing lists\n",
    "# Create a list of the columns that need fixing\n",
    "columns_to_fix = ['genres', 'spoken_languages', 'production_countries',]  \n",
    "\n",
    "# Create a list of characters to remove\n",
    "characters_to_remove = [\"[\", \"]\", \"'\"]\n",
    "\n",
    "# Loop through the list of columns to fix\n",
    "for col in columns_to_fix:\n",
    "    # Convert the column to type 'str'\n",
    "    merged_df[col] = merged_df[col].astype(str)\n",
    "\n",
    "    # Loop through characters to remove\n",
    "    for char in characters_to_remove:\n",
    "        # Remove the character\n",
    "        merged_df[col] = merged_df[col].str.replace(char, '')\n",
    "\n",
    "# Display the fixed columns in the  DataFrame, the display is truncated the columns. \n",
    "display(merged_df)"
   ]
  },
  {
   "cell_type": "code",
   "execution_count": null,
   "metadata": {},
   "outputs": [],
   "source": [
    "# Display the fixed columns in the  DataFrame\n",
    "merged_df[[\"genres\", \"spoken_languages\", \"production_countries\"]].head(10)"
   ]
  },
  {
   "cell_type": "code",
   "execution_count": null,
   "metadata": {},
   "outputs": [],
   "source": [
    "# Drop \"byline.person\" column\n",
    "merged_df.drop(\"byline.person\", axis=1, inplace=True)"
   ]
  },
  {
   "cell_type": "code",
   "execution_count": null,
   "metadata": {},
   "outputs": [],
   "source": [
    "# Delete duplicate rows and reset index\n",
    "merged_df.drop_duplicates(inplace=True)\n",
    "merged_df.reset_index(drop=True, inplace=True)\n",
    "print(merged_df.shape)"
   ]
  },
  {
   "cell_type": "code",
   "execution_count": null,
   "metadata": {},
   "outputs": [],
   "source": [
    "# Export data to CSV without the index\n",
    "merged_df.to_csv('output/movie_data.csv', index=False)"
   ]
  }
 ],
 "metadata": {
  "kernelspec": {
   "display_name": "Python 3 (ipykernel)",
   "language": "python",
   "name": "python3"
  },
  "language_info": {
   "codemirror_mode": {
    "name": "ipython",
    "version": 3
   },
   "file_extension": ".py",
   "mimetype": "text/x-python",
   "name": "python",
   "nbconvert_exporter": "python",
   "pygments_lexer": "ipython3",
   "version": "3.10.13"
  },
  "varInspector": {
   "cols": {
    "lenName": 16,
    "lenType": 16,
    "lenVar": 40
   },
   "kernels_config": {
    "python": {
     "delete_cmd_postfix": "",
     "delete_cmd_prefix": "del ",
     "library": "var_list.py",
     "varRefreshCmd": "print(var_dic_list())"
    },
    "r": {
     "delete_cmd_postfix": ") ",
     "delete_cmd_prefix": "rm(",
     "library": "var_list.r",
     "varRefreshCmd": "cat(var_dic_list()) "
    }
   },
   "types_to_exclude": [
    "module",
    "function",
    "builtin_function_or_method",
    "instance",
    "_Feature"
   ],
   "window_display": false
  }
 },
 "nbformat": 4,
 "nbformat_minor": 2
}
