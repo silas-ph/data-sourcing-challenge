{
 "cells": [
  {
   "cell_type": "markdown",
   "metadata": {},
   "source": [
    "### Import Required Libraries and Set Up Environment Variables"
   ]
  },
  {
   "cell_type": "code",
   "execution_count": 19,
   "metadata": {},
   "outputs": [],
   "source": [
    "# Dependencies\n",
    "import requests\n",
    "import time\n",
    "from dotenv import load_dotenv\n",
    "import os\n",
    "import pandas as pd\n",
    "import json"
   ]
  },
  {
   "cell_type": "code",
   "execution_count": 20,
   "metadata": {},
   "outputs": [],
   "source": [
    "# Set environment variables from the .env in the local environment\n",
    "load_dotenv('api.env')\n",
    "\n",
    "nyt_api_key = os.getenv(\"NYT_API_KEY\")\n",
    "tmdb_api_key = os.getenv(\"TMDB_API_KEY\")"
   ]
  },
  {
   "cell_type": "code",
   "execution_count": null,
   "metadata": {},
   "outputs": [],
   "source": []
  },
  {
   "cell_type": "markdown",
   "metadata": {},
   "source": [
    "### Access the New York Times API"
   ]
  },
  {
   "cell_type": "code",
   "execution_count": 22,
   "metadata": {},
   "outputs": [],
   "source": [
    "# Set the base URL\n",
    "url = \"https://api.nytimes.com/svc/search/v2/articlesearch.json?\"\n",
    "# Filter for movie reviews with \"love\" in the headline\n",
    "# section_name should be \"Movies\"\n",
    "# type_of_material should be \"Review\"\n",
    "filter_query = 'section_name:\"Movies\" AND type_of_material:\"Review\" AND headline:\"love\"'\n",
    "# Use a sort filter, sort by newest\n",
    "sort = \"newest\"\n",
    "# Select the following fields to return:\n",
    "# headline, web_url, snippet, source, keywords, pub_date, byline, word_count\n",
    "field_list = \"headline,web_url,snippet,source,keywords,pub_date,byline,word_count\"\n",
    "# Search for reviews published between a begin and end date\n",
    "begin_date = \"20130101\"\n",
    "end_date = \"20230531\"\n",
    "# Build URL\n",
    "query_url = (\n",
    "    f\"{url}api-key={nyt_api_key}&begin_date={begin_date}&end_date={end_date}&fq={filter_query}&sort={sort}&fl={field_list}\")"
   ]
  },
  {
   "cell_type": "code",
   "execution_count": 23,
   "metadata": {},
   "outputs": [
    {
     "data": {
      "text/plain": [
       "<Response [401]>"
      ]
     },
     "execution_count": 23,
     "metadata": {},
     "output_type": "execute_result"
    }
   ],
   "source": [
    "# Make a \"GET\" request and retrieve the JSON\n",
    "requests.get(url)\n",
    "# response = requests.get(query_url)\n",
    "# reviews = response.json()\n",
    "# print(json.dumps(reviews, indent=4))"
   ]
  },
  {
   "cell_type": "code",
   "execution_count": null,
   "metadata": {},
   "outputs": [],
   "source": [
    "# # Base URL for the New York Times Article Search API\n",
    "# url = \"https://api.nytimes.com/svc/search/v2/articlesearch.json?\"\n",
    "\n",
    "# # Construct the filter query\n",
    "# filter_query = 'section_name:\"Movies\" AND type_of_material:\"Review\" AND headline:\"love\"'\n",
    "# sort = \"newest\"\n",
    "# field_list = \"headline,web_url,snippet,source,keywords,pub_date,byline,word_count\"\n",
    "# begin_date = \"20130101\"\n",
    "# end_date = \"20230531\"\n",
    "\n",
    "\n",
    "\n"
   ]
  },
  {
   "cell_type": "code",
   "execution_count": null,
   "metadata": {},
   "outputs": [],
   "source": [
    "# create a list to store the reviews\n",
    "reviews_list = ([])  \n",
    "# Attempt to retrieve 200 reviews by iterating through 20 pages starting at 0 (10 results per page)\n",
    "for page in range(20):  # NYT API limits results to 10 per page, 20 pages = 200 results\n",
    "    offset = page * 10\n",
    "    full_url = f\"{url}api-key={nyt_api_key}&q=love&fq={filter_query}&begin_date={begin_date}&end_date={end_date}&sort={sort}&fl={field_list}&page={page}\"\n",
    "    response = requests.get(full_url)\n",
    "    time.sleep(12)  #  rate limits per documentation\n",
    "\n",
    "    try:\n",
    "        reviews = response.json()\n",
    "        if reviews[\"response\"][\"docs\"]:\n",
    "            reviews_list.extend(reviews[\"response\"][\"docs\"])\n",
    "            print(f\"Page {page + 1} processed, offset {offset}\")\n",
    "        else:\n",
    "            print(f\"No more results found at page {page + 1}, stopping.\")\n",
    "            break\n",
    "    except Exception as e:\n",
    "        print(f\"An error occurred on page {page + 1} with offset {offset}: {e}\")\n",
    "        break"
   ]
  },
  {
   "cell_type": "code",
   "execution_count": null,
   "metadata": {},
   "outputs": [],
   "source": [
    "# # Create an empty list to store the reviews\n",
    "# reviews_list = []\n",
    "# # loop through pages 0-19\n",
    "# total_pages = 5 \n",
    "# for page_number in range(0, total_pages, 5):\n",
    "#     offset_value = page_number * 5\n",
    "#     # query_url = f\"{url}api-key={nyt_api_key}&begin_date={begin_date}&end_date={end_date}&fq={filter_query}&sort={sort}&offset={offset_value}\"\n",
    "#     query_url = f\"{url}api-key={nyt_api_key}&begin_date={begin_date}&end_date={end_date}&fq={filter_query}&sort={sort}&fl={field_list}\"\n",
    "\n",
    "#     # query_url = (\n",
    "#     #     f\"{url}api-key={nyt_api_key}&byline:{reviews}&sort{sort}&fl={field_list}&page={page_number}\"\n",
    "#     # )\n",
    "#     # Make a \"GET\" request and retrieve the JSON\n",
    "#     response = requests.get(query_url)\n",
    "#     # Add a twelve second interval between queries to stay within API query limits\n",
    "#     time.sleep(12)\n",
    "#     # Try and save the reviews to the reviews_list\n",
    "#     # loop through the reviews[\"response\"][\"docs\"] and append each review to the list\n",
    "#     try:\n",
    "#         # Loop through the \"docs\"\n",
    "#         for doc in reviews[\"response\"][\"docs\"]:\n",
    "#             # Save byline.original, headline.main, snippet,\n",
    "#             # and web_url\n",
    "#             reviews_list.append(\n",
    "#             {\n",
    "#                 \"byline\": doc[\"byline\"][\"original\"],\n",
    "#                 \"headline\": doc[\"headline\"][\"main\"],\n",
    "#                 \"snippet\": doc[\"snippet\"],\n",
    "#             }\n",
    "#         )\n",
    "#         if response.status_code == 200:  # Check for successful response\n",
    "#             data = response.json()\n",
    "#         reviews = data[\"response\"][\"docs\"]\n",
    "\n",
    "#         if reviews:  # Check if we have any reviews on this page\n",
    "#             print(\n",
    "#                 f\"\\nReviews found on Page {page_number + 1}:\"\n",
    "#             )  # Page numbers start from 0\n",
    "#             for review in reviews:\n",
    "#                 print(f\"Headline: {review['headline']}\")\n",
    "#                 print(f\"Web URL: {review['web_url']}\")\n",
    "#         else:\n",
    "#             print(f\"No reviews found on Page {page_number + 1}\")\n",
    "# else:\n",
    "#         print(f\"Error fetching page {page_number + 1}: {response.status_code}\")\n",
    "#     #         # Print the page that was just retrieved.\n",
    "#     #     print(f\"Found reviews on the following pages:{page_number}\")\n",
    "#     # # Print the page number that had no results then break from the loop\n",
    "#     # except:\n",
    "#     #     print(\n",
    "#     #     f\"No reviews found for the following pages: {page_number}\"\n",
    "#     # )  \n",
    "        \n",
    "#     break\n",
    "\n",
    "    "
   ]
  },
  {
   "cell_type": "code",
   "execution_count": null,
   "metadata": {},
   "outputs": [],
   "source": [
    "# Preview the first 5 results in JSON format\n",
    "first_five = reviews_list[:5]\n",
    "# Use json.dumps with argument indent=4 to format data\n",
    "json_data = json.dumps(first_five, indent=4)\n",
    "print(json_data)"
   ]
  },
  {
   "cell_type": "code",
   "execution_count": null,
   "metadata": {},
   "outputs": [],
   "source": [
    "# Convert reviews_list to a Pandas DataFrame using json_normalize()\n",
    "reviews_df = pd.json_normalize(reviews_list)\n",
    "\n",
    "# Optionally, preview the first few rows of the DataFrame\n",
    "#print(reviews_df.head(3))\n",
    "reviews_df "
   ]
  },
  {
   "cell_type": "code",
   "execution_count": null,
   "metadata": {},
   "outputs": [],
   "source": [
    "# Extract the title from the \"headline.main\" column and\n",
    "# save it to a new column \"title\"\n",
    "# Title is between unicode characters \\u2018 and \\u2019.\n",
    "reviews_df[\"title\"] = reviews_df[\"headline.main\"].apply(\n",
    "    lambda st: st[st.find(\"\\u2018\") + 1 : st.find(\"\\u2019 Review\")]\n",
    ")\n",
    "def extract_keywords(keywords_list):\n",
    "    return \", \".join([keyword[\"value\"] for keyword in keywords_list])\n",
    "reviews_df[\"keywords\"] = reviews_df[\"keywords\"].apply(extract_keywords)\n",
    "\n",
    "titles = reviews_df[\"title\"].tolist()\n",
    "# Title is between unicode characters \\u2018 and \\u2019.\n",
    "# End string should include \" Review\" to avoid cutting title early\n",
    "reviews_df[\"title\"] = reviews_df[\"headline.main\"].apply(\n",
    "    lambda st: st[st.find(\"‘\") + 1 : st.find(\"’ Review\")]\n",
    ")\n",
    "\n",
    "# End string should include \" Review\" to avoid cutting title early\n",
    "# lambda st: st[st.find(\"\\u2018\") + 1 : st.find(\"\\u2019 Review\")]\n",
    "# Extract the title from the \"headline.main\" column and save it to a new column \"title\"\n",
    "\n",
    "\n",
    "# Define the extract_keywords function\n",
    "def extract_keywords(keywords_list):\n",
    "    return \", \".join([keyword[\"value\"] for keyword in keywords_list])\n",
    "\n",
    "\n",
    "# Apply the extract_keywords function to the \"keywords\" column\n",
    "reviews_df[\"keywords\"] = reviews_df[\"keywords\"].apply(extract_keywords)"
   ]
  },
  {
   "cell_type": "code",
   "execution_count": null,
   "metadata": {},
   "outputs": [],
   "source": [
    "# Extract 'name' and 'value' from items in \"keywords\" column\n",
    "def extract_keywords(keyword_list):\n",
    "    extracted_keywords = \"\"\n",
    "    for item in keyword_list:\n",
    "        # Extract 'name' and 'value'\n",
    "        keyword = f\"{item['name']}: {item['value']};\" \n",
    "        # Append the keyword item to the extracted_keywords list\n",
    "        extracted_keywords += keyword\n",
    "    return extracted_keywords\n",
    "\n",
    "# Fix the \"keywords\" column by converting cells from a list to a string\n"
   ]
  },
  {
   "cell_type": "code",
   "execution_count": null,
   "metadata": {
    "scrolled": true
   },
   "outputs": [],
   "source": [
    "# Create a list from the \"title\" column using to_list()\n",
    "# These titles will be used in the query for The Movie Database\n"
   ]
  },
  {
   "cell_type": "markdown",
   "metadata": {},
   "source": [
    "### Access The Movie Database API"
   ]
  },
  {
   "cell_type": "code",
   "execution_count": null,
   "metadata": {},
   "outputs": [
    {
     "data": {
      "text/plain": [
       "<Response [401]>"
      ]
     },
     "execution_count": 27,
     "metadata": {},
     "output_type": "execute_result"
    }
   ],
   "source": [
    "# Prepare The Movie Database query\n",
    "url = \"https://api.themoviedb.org/3/search/movie?query=\"\n",
    "tmdb_key_string = \"&api_key=\" + tmdb_api_key\n"
   ]
  },
  {
   "cell_type": "code",
   "execution_count": null,
   "metadata": {},
   "outputs": [],
   "source": [
    "# Create an empty list to store the results\n",
    "\n",
    "\n",
    "# Create a request counter to sleep the requests after a multiple\n",
    "# of 50 requests\n",
    "\n",
    "\n",
    "# Loop through the titles\n",
    "\n",
    "    # Check if we need to sleep before making a request\n",
    "\n",
    "\n",
    "    # Add 1 to the request counter\n",
    "\n",
    "    \n",
    "    # Perform a \"GET\" request for The Movie Database\n",
    "\n",
    "\n",
    "    # Include a try clause to search for the full movie details.\n",
    "    # Use the except clause to print out a statement if a movie\n",
    "    # is not found.\n",
    "\n",
    "        # Get movie id\n",
    "\n",
    "\n",
    "        # Make a request for a the full movie details\n",
    "\n",
    "\n",
    "        # Execute \"GET\" request with url\n",
    "\n",
    "        \n",
    "        # Extract the genre names into a list\n",
    "\n",
    "\n",
    "        # Extract the spoken_languages' English name into a list\n",
    "\n",
    "\n",
    "        # Extract the production_countries' name into a list\n",
    "\n",
    "\n",
    "        # Add the relevant data to a dictionary and\n",
    "        # append it to the tmdb_movies_list list\n",
    "\n",
    "        \n",
    "        # Print out the title that was found\n",
    "\n"
   ]
  },
  {
   "cell_type": "code",
   "execution_count": null,
   "metadata": {},
   "outputs": [],
   "source": [
    "# Preview the first 5 results in JSON format\n",
    "# Use json.dumps with argument indent=4 to format data\n"
   ]
  },
  {
   "cell_type": "code",
   "execution_count": null,
   "metadata": {},
   "outputs": [],
   "source": [
    "# Convert the results to a DataFrame\n"
   ]
  },
  {
   "cell_type": "markdown",
   "metadata": {},
   "source": [
    "### Merge and Clean the Data for Export"
   ]
  },
  {
   "cell_type": "code",
   "execution_count": null,
   "metadata": {
    "scrolled": true
   },
   "outputs": [],
   "source": [
    "# Merge the New York Times reviews and TMDB DataFrames on title\n"
   ]
  },
  {
   "cell_type": "code",
   "execution_count": null,
   "metadata": {},
   "outputs": [],
   "source": [
    "# Remove list brackets and quotation marks on the columns containing lists\n",
    "# Create a list of the columns that need fixing\n",
    "\n",
    "\n",
    "# Create a list of characters to remove\n",
    "\n",
    "\n",
    "# Loop through the list of columns to fix\n",
    "\n",
    "    # Convert the column to type 'str'\n",
    "\n",
    "\n",
    "    # Loop through characters to remove\n",
    "\n",
    "\n",
    "# Display the fixed DataFrame\n"
   ]
  },
  {
   "cell_type": "code",
   "execution_count": null,
   "metadata": {},
   "outputs": [],
   "source": [
    "# Drop \"byline.person\" column\n"
   ]
  },
  {
   "cell_type": "code",
   "execution_count": null,
   "metadata": {},
   "outputs": [],
   "source": [
    "# Delete duplicate rows and reset index\n"
   ]
  },
  {
   "cell_type": "code",
   "execution_count": null,
   "metadata": {},
   "outputs": [],
   "source": [
    "# Export data to CSV without the index\n"
   ]
  },
  {
   "cell_type": "code",
   "execution_count": null,
   "metadata": {},
   "outputs": [],
   "source": []
  }
 ],
 "metadata": {
  "kernelspec": {
   "display_name": "Python 3 (ipykernel)",
   "language": "python",
   "name": "python3"
  },
  "language_info": {
   "codemirror_mode": {
    "name": "ipython",
    "version": 3
   },
   "file_extension": ".py",
   "mimetype": "text/x-python",
   "name": "python",
   "nbconvert_exporter": "python",
   "pygments_lexer": "ipython3",
   "version": "3.10.13"
  },
  "varInspector": {
   "cols": {
    "lenName": 16,
    "lenType": 16,
    "lenVar": 40
   },
   "kernels_config": {
    "python": {
     "delete_cmd_postfix": "",
     "delete_cmd_prefix": "del ",
     "library": "var_list.py",
     "varRefreshCmd": "print(var_dic_list())"
    },
    "r": {
     "delete_cmd_postfix": ") ",
     "delete_cmd_prefix": "rm(",
     "library": "var_list.r",
     "varRefreshCmd": "cat(var_dic_list()) "
    }
   },
   "types_to_exclude": [
    "module",
    "function",
    "builtin_function_or_method",
    "instance",
    "_Feature"
   ],
   "window_display": false
  }
 },
 "nbformat": 4,
 "nbformat_minor": 2
}
